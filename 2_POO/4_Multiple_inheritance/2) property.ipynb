{
 "cells": [
  {
   "attachments": {},
   "cell_type": "markdown",
   "metadata": {},
   "source": [
    "# Decorador Property\n",
    "El decorador property de Python es una característica de programación orientada a objetos que permite a los desarrolladores definir métodos que se comportan como atributos de una clase. Esto significa que podemos usarlos para establecer o recuperar valores de variables privadas de una clase, o incluso para calcular valores dinámicamente en tiempo de ejecución.\n",
    "\n",
    "Para definir una propiedad, podemos usar el decorador @property seguido de un método que tiene el mismo nombre que la propiedad. Este método no toma ningún argumento y devuelve el valor de la propiedad.\n",
    "\n",
    "Por ejemplo, consideremos la siguiente clase que representa una persona con un nombre y una edad:"
   ]
  },
  {
   "cell_type": "code",
   "execution_count": 1,
   "metadata": {},
   "outputs": [],
   "source": [
    "class Persona:\n",
    "    def __init__(self, nombre, edad):\n",
    "        self._nombre = nombre\n",
    "        self._edad = edad"
   ]
  },
  {
   "attachments": {},
   "cell_type": "markdown",
   "metadata": {},
   "source": [
    "Para obtener la edad de una persona, podemos definir una propiedad llamada edad con el decorador property de la siguiente manera:"
   ]
  },
  {
   "cell_type": "code",
   "execution_count": null,
   "metadata": {},
   "outputs": [],
   "source": [
    "@property\n",
    "def edad(self):\n",
    "    return self._edad"
   ]
  },
  {
   "attachments": {},
   "cell_type": "markdown",
   "metadata": {},
   "source": [
    "En este caso, el método edad se convierte en una propiedad que podemos usar como un atributo de instancia de la clase. Para obtener la edad de una persona, podemos simplemente hacer lo siguiente:"
   ]
  },
  {
   "cell_type": "code",
   "execution_count": null,
   "metadata": {},
   "outputs": [],
   "source": [
    "p = Persona(\"Juan\", 30)\n",
    "print(p.edad)  # 30"
   ]
  }
 ],
 "metadata": {
  "kernelspec": {
   "display_name": "Python 3",
   "language": "python",
   "name": "python3"
  },
  "language_info": {
   "codemirror_mode": {
    "name": "ipython",
    "version": 3
   },
   "file_extension": ".py",
   "mimetype": "text/x-python",
   "name": "python",
   "nbconvert_exporter": "python",
   "pygments_lexer": "ipython3",
   "version": "3.11.1"
  },
  "orig_nbformat": 4
 },
 "nbformat": 4,
 "nbformat_minor": 2
}
