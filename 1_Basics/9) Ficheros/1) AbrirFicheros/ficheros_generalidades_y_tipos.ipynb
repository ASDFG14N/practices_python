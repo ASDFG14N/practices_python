{
 "cells": [
  {
   "attachments": {},
   "cell_type": "markdown",
   "metadata": {},
   "source": [
    "Ficheros. Generalidades y tipos\n",
    "--\n",
    "\n",
    "Para conseguir que los datos se almecenen de forma permante en el ordenandor haremos uso de los \"ficheros\".\n",
    "\n",
    "- se distinguen dos tipos: de texto y binarios, estos ultimos son mas eficientes que los de texto"
   ]
  },
  {
   "attachments": {},
   "cell_type": "markdown",
   "metadata": {},
   "source": [
    "### abrir un fichero de texto. Modos de apertura\n",
    "Al tratar de abris un fichero, lo primero es abrilo determinando un modo. Mediante esta opcion y de la forma que se verá en el ejemplo podemos crear un fichero. \n",
    "\n",
    "- OPCIONALMENTE inidicaremos ente comillas el formato de codificacion(UTF-8 o ASCII)\n",
    "\n",
    "Sintaxis >> nombreLogicoFichero = open(\"nombreFisicoFichero\", \"modo_apertura\", encoding = formato)\n",
    " \n",
    "\n",
    " "
   ]
  },
  {
   "cell_type": "code",
   "execution_count": 2,
   "metadata": {},
   "outputs": [],
   "source": [
    "nombre_logico_fichero = open(\"miPrimerFicheroPy.txt\", \"w\")\n",
    "nombre_logico_fichero.close()"
   ]
  },
  {
   "attachments": {},
   "cell_type": "markdown",
   "metadata": {},
   "source": [
    "* podemos ver los modos de apertura en la imagen modosDeApertura.jpg"
   ]
  },
  {
   "attachments": {},
   "cell_type": "markdown",
   "metadata": {},
   "source": [
    "* la variable nombre_logico_fichero, tiene algunos metodo que podran ser usados. se vera en la otra carpeta"
   ]
  }
 ],
 "metadata": {
  "kernelspec": {
   "display_name": "Python 3",
   "language": "python",
   "name": "python3"
  },
  "language_info": {
   "codemirror_mode": {
    "name": "ipython",
    "version": 3
   },
   "file_extension": ".py",
   "mimetype": "text/x-python",
   "name": "python",
   "nbconvert_exporter": "python",
   "pygments_lexer": "ipython3",
   "version": "3.11.1"
  },
  "orig_nbformat": 4
 },
 "nbformat": 4,
 "nbformat_minor": 2
}
