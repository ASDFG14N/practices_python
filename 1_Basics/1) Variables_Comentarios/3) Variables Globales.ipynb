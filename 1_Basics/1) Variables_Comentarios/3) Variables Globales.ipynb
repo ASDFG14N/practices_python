{
 "cells": [
  {
   "attachments": {},
   "cell_type": "markdown",
   "metadata": {},
   "source": [
    "# Variables Globales\n",
    "Las variables que se crean fuera de una función (como en todos los ejemplos anteriores) se conocen como variables globales.\n",
    "\n",
    "Las variables globales pueden ser utilizadas por todos, tanto dentro como fuera de las funciones."
   ]
  },
  {
   "cell_type": "code",
   "execution_count": null,
   "metadata": {},
   "outputs": [],
   "source": [
    "#Crear una variable fuera de una función y usarla dentro de la función\n",
    "x = \"Increible\"\n",
    "def myfuncion():\n",
    "    print(\"Python es\", x)\n",
    "myfuncion()"
   ]
  },
  {
   "attachments": {},
   "cell_type": "markdown",
   "metadata": {},
   "source": [
    "Si crea una variable con el mismo nombre dentro de una función, esta variable será local y solo se puede usar dentro de la función."
   ]
  },
  {
   "cell_type": "code",
   "execution_count": null,
   "metadata": {},
   "outputs": [],
   "source": [
    "m = \"awesome\" #Esta es una variable global\n",
    "def myfunc():\n",
    "  m = \"fantastic\" #esta es una variabe local\n",
    "  print(\"Python is \" + m)\n",
    "myfunc() #imprime pyrhon es fantastico\n",
    "print(\"Python is \" + m) #imprime python es increible\n",
    "print()"
   ]
  },
  {
   "attachments": {},
   "cell_type": "markdown",
   "metadata": {},
   "source": [
    "Normalmente, cuando crea una variable dentro de una función, esa variable es local y solo se puede usar dentro de esa función. Para crear una variable global dentro de una función, puede usar palabra clave global"
   ]
  },
  {
   "cell_type": "code",
   "execution_count": null,
   "metadata": {},
   "outputs": [],
   "source": [
    "def myfunc():\n",
    "  global a #Variable global\n",
    "  a = \"fantastic\"\n",
    "print(\"Python is \" + a)"
   ]
  },
  {
   "attachments": {},
   "cell_type": "markdown",
   "metadata": {},
   "source": [
    "Es posible cambiar el valor de una variable global dentro de una función, consulte la variable usando la plabra clave global."
   ]
  },
  {
   "cell_type": "code",
   "execution_count": 6,
   "metadata": {},
   "outputs": [
    {
     "name": "stdout",
     "output_type": "stream",
     "text": [
      "Python es fantastico\n"
     ]
    }
   ],
   "source": [
    "palabra = \"increible\"\n",
    "def funcion():\n",
    "    global palabra #Consultamos por la variable global\n",
    "    palabra = \"fantastico\"\n",
    "\n",
    "funcion()\n",
    "print(\"Python es \" + palabra)"
   ]
  }
 ],
 "metadata": {
  "kernelspec": {
   "display_name": "Python 3",
   "language": "python",
   "name": "python3"
  },
  "language_info": {
   "codemirror_mode": {
    "name": "ipython",
    "version": 3
   },
   "file_extension": ".py",
   "mimetype": "text/x-python",
   "name": "python",
   "nbconvert_exporter": "python",
   "pygments_lexer": "ipython3",
   "version": "3.11.1"
  },
  "orig_nbformat": 4
 },
 "nbformat": 4,
 "nbformat_minor": 2
}
